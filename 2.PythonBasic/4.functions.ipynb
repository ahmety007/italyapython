{
 "cells": [
  {
   "cell_type": "markdown",
   "id": "3f2e3ae5",
   "metadata": {},
   "source": [
    "# Defining Functions\n",
    "\n",
    "Functions in Python are defined using the reserved word `def` followed by the parenthesized list of formal parameters. This section is separated from the function body (the past of the function that implements its behavior) by `:`. \n",
    "\n",
    "A very simple function that does nothing:"
   ]
  },
  {
   "cell_type": "code",
   "execution_count": 1,
   "id": "844e4aa7",
   "metadata": {},
   "outputs": [],
   "source": [
    "def foo():\n",
    "    pass"
   ]
  },
  {
   "cell_type": "markdown",
   "id": "ad8c019f",
   "metadata": {},
   "source": [
    "That is a function named `foo` with an empty body; the `pass` statement does nothing but is a valid statement.\n",
    "\n",
    "The following is a more useful function that generates the Fibonacci series up to a number `n` provided as a function parameter:"
   ]
  },
  {
   "cell_type": "code",
   "execution_count": 2,
   "id": "2ba35309",
   "metadata": {},
   "outputs": [],
   "source": [
    "def fib(n):\n",
    "    \"\"\"Print a Fibonacci series up to n\"\"\"\n",
    "    a, b = 0, 1\n",
    "    while a < n:\n",
    "        print(a, end=' ')\n",
    "        a, b = b, a+b\n",
    "    print()"
   ]
  },
  {
   "cell_type": "markdown",
   "id": "276de837",
   "metadata": {},
   "source": [
    "The first statement of the function body can optionally be a string literal; this string literal is the function’s documentation string, or docstring. There are tools which use docstrings to automatically produce online or printed documentation, or to let the user interactively browse through code; it’s good practice to include docstrings in code that you write, so make a habit of it.\n",
    "\n",
    "Function documentation can be accessed using the `__doc__` attribute:"
   ]
  },
  {
   "cell_type": "code",
   "execution_count": 16,
   "id": "fa7fdadc",
   "metadata": {},
   "outputs": [
    {
     "data": {
      "text/plain": [
       "'Print a Fibonacci series up to n'"
      ]
     },
     "execution_count": 16,
     "metadata": {},
     "output_type": "execute_result"
    }
   ],
   "source": [
    "fib.__doc__"
   ]
  },
  {
   "cell_type": "markdown",
   "id": "ef6fbddc",
   "metadata": {},
   "source": [
    "This function is invoked using its name, followed by the parenthesized list of actual parameters (arguments)."
   ]
  },
  {
   "cell_type": "code",
   "execution_count": 8,
   "id": "9ef8ccbe",
   "metadata": {},
   "outputs": [
    {
     "name": "stdout",
     "output_type": "stream",
     "text": [
      "\n"
     ]
    }
   ],
   "source": [
    "fib(0)"
   ]
  },
  {
   "cell_type": "markdown",
   "id": "5aee4859",
   "metadata": {},
   "source": [
    "A function definition associates the function name with the function object. The interpreter recognizes the object pointed to by that name as a user-defined function. Other names can also point to that same function object and can also be used to access the function:"
   ]
  },
  {
   "cell_type": "code",
   "execution_count": 11,
   "id": "ad52974b",
   "metadata": {},
   "outputs": [
    {
     "data": {
      "text/plain": [
       "<function __main__.fib(n)>"
      ]
     },
     "execution_count": 11,
     "metadata": {},
     "output_type": "execute_result"
    }
   ],
   "source": [
    "fib"
   ]
  },
  {
   "cell_type": "code",
   "execution_count": 12,
   "id": "74c4aec1",
   "metadata": {},
   "outputs": [
    {
     "name": "stdout",
     "output_type": "stream",
     "text": [
      "0 1 1 2 3 5 8 13 21 34 55 89 \n"
     ]
    }
   ],
   "source": [
    "f = fib\n",
    "f(100)"
   ]
  },
  {
   "cell_type": "markdown",
   "id": "40557b78",
   "metadata": {},
   "source": [
    "Coming from other languages, objection can be made that `fib` is not a function but a procedure since it doesn’t return a value. In fact, even functions without a `return` statement do return a value, albeit a rather boring one: None"
   ]
  },
  {
   "cell_type": "code",
   "execution_count": 13,
   "id": "d5f4d136",
   "metadata": {},
   "outputs": [
    {
     "name": "stdout",
     "output_type": "stream",
     "text": [
      "\n",
      "None\n"
     ]
    }
   ],
   "source": [
    "print(fib(0))"
   ]
  },
  {
   "cell_type": "markdown",
   "id": "b7464c05",
   "metadata": {},
   "source": [
    "The function `fib2` reimplements the Fibonacci sequence generation by returning a list of numbers instead of printing it:"
   ]
  },
  {
   "cell_type": "code",
   "execution_count": 17,
   "id": "9635c1d7",
   "metadata": {},
   "outputs": [],
   "source": [
    "def fib2(n):\n",
    "    \"\"\"Return a list containing the Fibonacci series up to n\"\"\"\n",
    "    result = []\n",
    "    a, b = 0, 1\n",
    "    while a < n:\n",
    "        result.append(a)\n",
    "        a, b = b, a+b\n",
    "    return result"
   ]
  },
  {
   "cell_type": "markdown",
   "id": "19e0a298",
   "metadata": {},
   "source": [
    "The return statement returns with a value from a function. return without an expression argument returns None. Falling off the end of a function without a return statement, also returns None."
   ]
  },
  {
   "cell_type": "code",
   "execution_count": 20,
   "id": "eba4bc19",
   "metadata": {},
   "outputs": [
    {
     "data": {
      "text/plain": [
       "[0, 1, 1, 2, 3, 5, 8, 13, 21, 34, 55, 89]"
      ]
     },
     "execution_count": 20,
     "metadata": {},
     "output_type": "execute_result"
    }
   ],
   "source": [
    "fs100 = fib2(100)\n",
    "\n",
    "fs100"
   ]
  },
  {
   "cell_type": "markdown",
   "id": "2783688c",
   "metadata": {},
   "source": [
    "It is also possible to define functions with a variable number of arguments. There are three forms, which can be combined.\n",
    "\n",
    "## Default Argument values\n",
    "\n",
    "The most useful form is to specify a default value for one or more arguments. This creates a function that can be called with fewer arguments than it is defined to allow."
   ]
  },
  {
   "cell_type": "code",
   "execution_count": 31,
   "id": "8dcba1e3",
   "metadata": {},
   "outputs": [],
   "source": [
    "def ask_ok(prompt, retries=4, reminder='Please try again!'):\n",
    "    while retries > 0:\n",
    "        ok = input(prompt)\n",
    "        if ok.lower() == 'y':\n",
    "            return True\n",
    "        if ok.lower() == 'n':\n",
    "            return False\n",
    "        print(reminder)\n",
    "        retries -= 1\n",
    "    else:\n",
    "        print('Invalid user input')"
   ]
  },
  {
   "cell_type": "markdown",
   "id": "5a4cfe3d",
   "metadata": {},
   "source": [
    "This function can be called in several ways, giving only the mandatory argument:"
   ]
  },
  {
   "cell_type": "code",
   "execution_count": 40,
   "id": "fef8747a",
   "metadata": {},
   "outputs": [
    {
     "name": "stdout",
     "output_type": "stream",
     "text": [
      "Do you really want to quit?n\n"
     ]
    },
    {
     "data": {
      "text/plain": [
       "False"
      ]
     },
     "execution_count": 40,
     "metadata": {},
     "output_type": "execute_result"
    }
   ],
   "source": [
    "ask_ok('Do you really want to quit?')"
   ]
  },
  {
   "cell_type": "markdown",
   "id": "50ab77e7",
   "metadata": {},
   "source": [
    "giving one of the optional arguments:"
   ]
  },
  {
   "cell_type": "code",
   "execution_count": 39,
   "id": "78d18aa8",
   "metadata": {},
   "outputs": [
    {
     "name": "stdout",
     "output_type": "stream",
     "text": [
      "OK to remove the file?n\n"
     ]
    },
    {
     "data": {
      "text/plain": [
       "False"
      ]
     },
     "execution_count": 39,
     "metadata": {},
     "output_type": "execute_result"
    }
   ],
   "source": [
    "ask_ok('OK to remove the file?', 2)"
   ]
  },
  {
   "cell_type": "markdown",
   "id": "93e3b23d",
   "metadata": {},
   "source": [
    "or even giving all arguments:"
   ]
  },
  {
   "cell_type": "code",
   "execution_count": 37,
   "id": "faf7b380",
   "metadata": {},
   "outputs": [
    {
     "name": "stdout",
     "output_type": "stream",
     "text": [
      "OK to overwrite the file?n\n"
     ]
    },
    {
     "data": {
      "text/plain": [
       "False"
      ]
     },
     "execution_count": 37,
     "metadata": {},
     "output_type": "execute_result"
    }
   ],
   "source": [
    "ask_ok('OK to overwrite the file?', 2, 'Come on, only yes or no!')"
   ]
  },
  {
   "cell_type": "markdown",
   "id": "d151b616",
   "metadata": {},
   "source": [
    "The default values are evaluated at the point of function definition in the defining scope, so that the next funtion will print 5."
   ]
  },
  {
   "cell_type": "code",
   "execution_count": 41,
   "id": "fcfc9d81",
   "metadata": {},
   "outputs": [
    {
     "name": "stdout",
     "output_type": "stream",
     "text": [
      "5\n"
     ]
    }
   ],
   "source": [
    "i = 5\n",
    "\n",
    "def f(arg=i):\n",
    "    print(arg)\n",
    "\n",
    "i = 6\n",
    "f()"
   ]
  },
  {
   "cell_type": "markdown",
   "id": "4cc56b08",
   "metadata": {},
   "source": [
    "The default value is evaluated only once. This makes a difference when the default is a mutable object such as a list, dictionary, or instances of most classes. For example, the following function accumulates the arguments passed to it on subsequent calls:"
   ]
  },
  {
   "cell_type": "code",
   "execution_count": 42,
   "id": "740c08b2",
   "metadata": {},
   "outputs": [
    {
     "name": "stdout",
     "output_type": "stream",
     "text": [
      "[1]\n",
      "[1, 2]\n",
      "[1, 2, 3]\n"
     ]
    }
   ],
   "source": [
    "def f(a, L=[]):\n",
    "    L.append(a)\n",
    "    return L\n",
    "\n",
    "print(f(1))\n",
    "print(f(2))\n",
    "print(f(3))"
   ]
  },
  {
   "cell_type": "markdown",
   "id": "4ae6484c",
   "metadata": {},
   "source": [
    "## Keyword Arguments\n",
    "\n",
    "Functions can also be called using keyword arguments of the form `kwarg=value`. For instance this function accepts one required argument `a` and two optional arguments `b` and `c`."
   ]
  },
  {
   "cell_type": "code",
   "execution_count": 59,
   "id": "23dfb397",
   "metadata": {},
   "outputs": [],
   "source": [
    "def f(a, b='default b', c=\"default c\"):\n",
    "    print(f'a = {a}, b = {b}, c = {c}')"
   ]
  },
  {
   "cell_type": "code",
   "execution_count": 53,
   "id": "be579a1a",
   "metadata": {},
   "outputs": [
    {
     "name": "stdout",
     "output_type": "stream",
     "text": [
      "a = 1, b = default b, c = default c\n"
     ]
    }
   ],
   "source": [
    "f(1)"
   ]
  },
  {
   "cell_type": "code",
   "execution_count": 54,
   "id": "5b297d46",
   "metadata": {},
   "outputs": [
    {
     "name": "stdout",
     "output_type": "stream",
     "text": [
      "a = 1, b = 2, c = 3\n"
     ]
    }
   ],
   "source": [
    "f(1, 2, 3)"
   ]
  },
  {
   "cell_type": "code",
   "execution_count": 55,
   "id": "6d67b28b",
   "metadata": {},
   "outputs": [
    {
     "name": "stdout",
     "output_type": "stream",
     "text": [
      "a = 1, b = 10, c = 200\n"
     ]
    }
   ],
   "source": [
    "f(1, b=10, c=200)"
   ]
  },
  {
   "cell_type": "code",
   "execution_count": 56,
   "id": "95ec61c4",
   "metadata": {},
   "outputs": [
    {
     "name": "stdout",
     "output_type": "stream",
     "text": [
      "a = 1, b = 10, c = 200\n"
     ]
    }
   ],
   "source": [
    "f(1, c=200, b=10)"
   ]
  },
  {
   "cell_type": "code",
   "execution_count": 58,
   "id": "d99c11cd",
   "metadata": {},
   "outputs": [
    {
     "name": "stdout",
     "output_type": "stream",
     "text": [
      "a = 1, b = default b, c = 200\n"
     ]
    }
   ],
   "source": [
    "f(c=200, a=1)"
   ]
  },
  {
   "cell_type": "markdown",
   "id": "1228891a",
   "metadata": {},
   "source": [
    "In a function call, keyword arguments must follow positional arguments. All the keyword arguments passed must match one of the arguments accepted by the function. This also includes non-optional arguments. No argument may receive a value more than once.\n",
    "\n",
    "When a final formal parameter of the form `**name` is present, it receives a dictionary containing all keyword arguments except for those corresponding to a formal parameter. This may be combined with a formal parameter of the form `*name` which receives a tuple containing the positional arguments beyond the formal parameter list. `*name` must occur before `**name`.) "
   ]
  },
  {
   "cell_type": "code",
   "execution_count": 60,
   "id": "44643382",
   "metadata": {},
   "outputs": [],
   "source": [
    "def g(a, *args, **kwargs):\n",
    "    print(f'a = {a}')\n",
    "    print(f'args = {args}')\n",
    "    print(f'kwargs = {kwargs}')"
   ]
  },
  {
   "cell_type": "code",
   "execution_count": 61,
   "id": "ddc759eb",
   "metadata": {},
   "outputs": [
    {
     "name": "stdout",
     "output_type": "stream",
     "text": [
      "a = 1\n",
      "args = ()\n",
      "kwargs = {}\n"
     ]
    }
   ],
   "source": [
    "g(1)"
   ]
  },
  {
   "cell_type": "code",
   "execution_count": 63,
   "id": "ab52ea4f",
   "metadata": {},
   "outputs": [
    {
     "name": "stdout",
     "output_type": "stream",
     "text": [
      "a = 1\n",
      "args = (2, 3, 4)\n",
      "kwargs = {'name': 'Jonh', 'last_name': 'Doe'}\n"
     ]
    }
   ],
   "source": [
    "g(1, 2, 3, 4, name='Jonh', last_name='Doe')"
   ]
  },
  {
   "cell_type": "code",
   "execution_count": 65,
   "id": "8e42d612",
   "metadata": {},
   "outputs": [
    {
     "name": "stdout",
     "output_type": "stream",
     "text": [
      "a = 1\n",
      "args = (2, 3, 4)\n",
      "kwargs = {'name': 'John', 'last_name': 'Doe'}\n"
     ]
    }
   ],
   "source": [
    "args = [2, 3, 4]\n",
    "kwargs = {'name': 'John', 'last_name': 'Doe'}\n",
    "\n",
    "g(1, *args, **kwargs)"
   ]
  },
  {
   "cell_type": "markdown",
   "id": "d393ef19",
   "metadata": {},
   "source": [
    "## Function Annotations\n",
    "\n",
    "Function annotations are completely optional metadata information about the types used by user-defined functions"
   ]
  },
  {
   "cell_type": "code",
   "execution_count": 83,
   "id": "0107e123",
   "metadata": {},
   "outputs": [],
   "source": [
    "def concat(*args, sep: str = '/') -> str:\n",
    "    return sep.join(args)"
   ]
  },
  {
   "cell_type": "code",
   "execution_count": 86,
   "id": "ed158fb8",
   "metadata": {},
   "outputs": [
    {
     "data": {
      "text/plain": [
       "'a/b/c'"
      ]
     },
     "execution_count": 86,
     "metadata": {},
     "output_type": "execute_result"
    }
   ],
   "source": [
    "concat('a', 'b', 'c')"
   ]
  }
 ],
 "metadata": {
  "kernelspec": {
   "display_name": "Python 3 (ipykernel)",
   "language": "python",
   "name": "python3"
  },
  "language_info": {
   "codemirror_mode": {
    "name": "ipython",
    "version": 3
   },
   "file_extension": ".py",
   "mimetype": "text/x-python",
   "name": "python",
   "nbconvert_exporter": "python",
   "pygments_lexer": "ipython3",
   "version": "3.10.6"
  }
 },
 "nbformat": 4,
 "nbformat_minor": 5
}
