{
 "cells": [
  {
   "cell_type": "markdown",
   "id": "f256a59f",
   "metadata": {},
   "source": [
    "# Pygame\n",
    "\n",
    "[intro a pygame]\n",
    "\n",
    "the simplest pygame program will look like this, import the module, initialize the framework and execute the main loop\n",
    "that will handle the user events\n"
   ]
  },
  {
   "cell_type": "code",
   "execution_count": 1,
   "id": "f1a0d72c",
   "metadata": {},
   "outputs": [
    {
     "name": "stdout",
     "output_type": "stream",
     "text": [
      "pygame 2.2.0 (SDL 2.0.22, Python 3.10.6)\n",
      "Hello from the pygame community. https://www.pygame.org/contribute.html\n"
     ]
    }
   ],
   "source": [
    "import pygame as pg\n",
    "\n",
    "pg.init()\n",
    "pg.display.set_caption(\"First Game\")\n",
    "\n",
    "\n",
    "class Config:\n",
    "    screen_height = 500\n",
    "    screen_width = 500\n",
    "    \n",
    "    \n",
    "def run_game():\n",
    "    run = True\n",
    "    screen = pg.display.set_mode((Config.screen_width, Config.screen_height))\n",
    "    while run:\n",
    "        #introduces a 100 ms between events\n",
    "        pg.time.delay(100)\n",
    "        for event in pg.event.get():\n",
    "            if event.type == pg.QUIT:\n",
    "                run = False\n",
    "    pg.quit()\n",
    "    \n",
    "run_game()"
   ]
  },
  {
   "cell_type": "markdown",
   "id": "8f859fd6",
   "metadata": {},
   "source": [
    "Notice the ´Config´ class; it will contains all the configurations needed.\n",
    "\n",
    "Lets explore how cordinates works by adding a rectangle to the screen [explain the coordinates]\n",
    "\n",
    "The following funcion draw a rectangle in the screen and update it."
   ]
  },
  {
   "cell_type": "code",
   "execution_count": 2,
   "id": "c66292f3",
   "metadata": {},
   "outputs": [],
   "source": [
    "class Config:\n",
    "    screen_height = 500\n",
    "    screen_width = 500\n",
    "    width_of_rec = 40\n",
    "    height_of_rec = 60\n",
    "    position_on_x = 50\n",
    "    position_on_y = 50\n",
    "    red = (255, 0, 0)\n",
    "    black = (0, 0, 0)\n",
    "\n",
    "\n",
    "def draw_rectangle(screen):\n",
    "    pg.draw.rect(screen, Config.red, (Config.position_on_x, Config.position_on_y, Config.width_of_rec, Config.height_of_rec))\n",
    "    pg.display.update()\n",
    "    \n",
    "\n",
    "def run_game():\n",
    "    run = True\n",
    "    screen = pg.display.set_mode((Config.screen_width, Config.screen_height))\n",
    "    while run:\n",
    "        #introduces a 100 ms between events\n",
    "        pg.time.delay(100)\n",
    "        for event in pg.event.get():\n",
    "            if event.type == pg.QUIT:\n",
    "                run = False\n",
    "        draw_rectangle(screen)\n",
    "    pg.quit()\n",
    "    \n",
    "run_game()"
   ]
  },
  {
   "cell_type": "markdown",
   "id": "e5c26461",
   "metadata": {},
   "source": [
    "Lets make the rectangle move left and right; the following funciton recive the key that was pressed and change the rectangle position accordingly"
   ]
  },
  {
   "cell_type": "code",
   "execution_count": 5,
   "id": "3bfad9e8",
   "metadata": {},
   "outputs": [],
   "source": [
    "class Config:\n",
    "    screen_height = 500\n",
    "    screen_width = 500\n",
    "    width_of_rec = 40\n",
    "    height_of_rec = 60\n",
    "    position_on_x = 50\n",
    "    position_on_y = 50\n",
    "    red = (255, 0, 0)\n",
    "    black = (0, 0, 0)\n",
    "    # amount of pixels to move\n",
    "    speed = 5\n",
    "\n",
    "    \n",
    "def check_lateral_move(keys):\n",
    "    if keys[pg.K_LEFT] and Config.position_on_x > Config.speed:\n",
    "        Config.position_on_x -= Config.speed\n",
    "\n",
    "    if keys[pg.K_RIGHT] and Config.position_on_x < Config.screen_width - Config.width_of_rec:\n",
    "        Config.position_on_x += Config.speed\n",
    "        \n",
    "    if keys[pg.K_UP] and Config.position_on_x > Config.speed:\n",
    "        Config.position_on_y -= Config.speed\n",
    "\n",
    "    if keys[pg.K_DOW] and Config.position_on_y < Config.screen_height - Config.width_of_rec:\n",
    "        Config.position_on_y += Config.speed    \n",
    "\n",
    "def run_game():\n",
    "    run = True\n",
    "    screen = pg.display.set_mode((Config.screen_width, Config.screen_height))\n",
    "    while run:\n",
    "        pg.time.delay(100)\n",
    "        for event in pg.event.get():\n",
    "            if event.type == pg.QUIT:\n",
    "                run = False\n",
    "        \n",
    "        keys = pg.key.get_pressed() # return the key pressed by user\n",
    "        check_lateral_move(keys)\n",
    "        draw_rectangle(screen)\n",
    "        \n",
    "        \n",
    "    pg.quit()\n",
    "    \n",
    "run_game()"
   ]
  },
  {
   "cell_type": "markdown",
   "id": "2cf096c9",
   "metadata": {
    "scrolled": false
   },
   "source": [
    "As you can notice the rectangle is leaving a trace lets fix that by filling the screen after every move"
   ]
  },
  {
   "cell_type": "code",
   "execution_count": 4,
   "id": "199d679f",
   "metadata": {},
   "outputs": [],
   "source": [
    "def run_game():\n",
    "    run = True\n",
    "    screen = pg.display.set_mode((Config.screen_width, Config.screen_height))\n",
    "    while run:\n",
    "        pg.time.delay(100)\n",
    "        for event in pg.event.get():\n",
    "            if event.type == pg.QUIT:\n",
    "                run = False\n",
    "        \n",
    "        keys = pg.key.get_pressed() \n",
    "        check_lateral_move(keys)\n",
    "        draw_rectangle(screen)\n",
    "        \n",
    "        screen.fill(Config.black) \n",
    "\n",
    "        \n",
    "    pg.quit()\n",
    "    \n",
    "run_game()"
   ]
  },
  {
   "cell_type": "code",
   "execution_count": 1,
   "id": "493a7f06",
   "metadata": {},
   "outputs": [
    {
     "ename": "NameError",
     "evalue": "name 'pg' is not defined",
     "output_type": "error",
     "traceback": [
      "\u001B[0;31m---------------------------------------------------------------------------\u001B[0m",
      "\u001B[0;31mNameError\u001B[0m                                 Traceback (most recent call last)",
      "Cell \u001B[0;32mIn[1], line 15\u001B[0m\n\u001B[1;32m     12\u001B[0m         screen\u001B[38;5;241m.\u001B[39mfill(black)\n\u001B[1;32m     13\u001B[0m     pg\u001B[38;5;241m.\u001B[39mquit()\n\u001B[0;32m---> 15\u001B[0m \u001B[43mrun_game\u001B[49m\u001B[43m(\u001B[49m\u001B[43m)\u001B[49m\n",
      "Cell \u001B[0;32mIn[1], line 3\u001B[0m, in \u001B[0;36mrun_game\u001B[0;34m()\u001B[0m\n\u001B[1;32m      1\u001B[0m \u001B[38;5;28;01mdef\u001B[39;00m \u001B[38;5;21mrun_game\u001B[39m():\n\u001B[1;32m      2\u001B[0m     run \u001B[38;5;241m=\u001B[39m \u001B[38;5;28;01mTrue\u001B[39;00m\n\u001B[0;32m----> 3\u001B[0m     screen \u001B[38;5;241m=\u001B[39m \u001B[43mpg\u001B[49m\u001B[38;5;241m.\u001B[39mdisplay\u001B[38;5;241m.\u001B[39mset_mode((screen_width, screen_height))\n\u001B[1;32m      4\u001B[0m     \u001B[38;5;28;01mwhile\u001B[39;00m run:\n\u001B[1;32m      5\u001B[0m         pg\u001B[38;5;241m.\u001B[39mtime\u001B[38;5;241m.\u001B[39mdelay(\u001B[38;5;241m100\u001B[39m)\n",
      "\u001B[0;31mNameError\u001B[0m: name 'pg' is not defined"
     ]
    }
   ],
   "source": []
  }
 ],
 "metadata": {
  "kernelspec": {
   "display_name": "Python 3 (ipykernel)",
   "language": "python",
   "name": "python3"
  },
  "language_info": {
   "codemirror_mode": {
    "name": "ipython",
    "version": 3
   },
   "file_extension": ".py",
   "mimetype": "text/x-python",
   "name": "python",
   "nbconvert_exporter": "python",
   "pygments_lexer": "ipython3",
   "version": "3.10.6"
  }
 },
 "nbformat": 4,
 "nbformat_minor": 5
}
