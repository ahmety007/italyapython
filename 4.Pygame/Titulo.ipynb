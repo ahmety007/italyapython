{
 "cells": [
  {
   "cell_type": "markdown",
   "id": "f256a59f",
   "metadata": {},
   "source": [
    "# Coso\n",
    "\n",
    "coso coso\n"
   ]
  },
  {
   "cell_type": "code",
   "execution_count": 4,
   "id": "f1a0d72c",
   "metadata": {},
   "outputs": [
    {
     "name": "stdout",
     "output_type": "stream",
     "text": [
      "pygame 2.2.0 (SDL 2.0.22, Python 3.10.6)\n",
      "Hello from the pygame community. https://www.pygame.org/contribute.html\n"
     ]
    }
   ],
   "source": [
    "import pygame as pg\n",
    "\n",
    "pg.init()\n",
    "pg.display.set_caption(\"First Game\")"
   ]
  },
  {
   "cell_type": "code",
   "execution_count": 5,
   "id": "c14d8285",
   "metadata": {},
   "outputs": [],
   "source": [
    "screen_height = 500\n",
    "screen_width = 500"
   ]
  },
  {
   "cell_type": "code",
   "execution_count": 5,
   "id": "c66292f3",
   "metadata": {},
   "outputs": [],
   "source": [
    "def run_game():\n",
    "    run = True\n",
    "    screen = pg.display.set_mode((screen_width, screen_height))\n",
    "    while run:\n",
    "        pg.time.delay(100)\n",
    "        for event in pg.event.get():\n",
    "            if event.type == pg.QUIT:\n",
    "                run = False\n",
    "    pg.quit()\n",
    "    \n",
    "run_game()"
   ]
  },
  {
   "cell_type": "code",
   "execution_count": 6,
   "id": "5b6d7255",
   "metadata": {},
   "outputs": [],
   "source": [
    "width_of_rec = 40\n",
    "height_of_rec = 60\n",
    "position_on_x = 50\n",
    "position_on_y = 50\n",
    "speed = 5\n",
    "black = (0, 0, 0)\n",
    "red = (255, 0, 0)"
   ]
  },
  {
   "cell_type": "code",
   "execution_count": 7,
   "id": "3bfad9e8",
   "metadata": {},
   "outputs": [],
   "source": [
    "def draw_rectangle(screen):\n",
    "    pg.draw.rect(screen, red, (position_on_x, position_on_y, width_of_rec, height_of_rec))\n",
    "    pg.display.update()"
   ]
  },
  {
   "cell_type": "code",
   "execution_count": 6,
   "id": "e2829419",
   "metadata": {
    "scrolled": false
   },
   "outputs": [],
   "source": [
    "def run_game():\n",
    "    run = True\n",
    "    screen = pg.display.set_mode((screen_width, screen_height))\n",
    "    while run:\n",
    "        pg.time.delay(100)\n",
    "        for event in pg.event.get():\n",
    "            if event.type == pg.QUIT:\n",
    "                run = False\n",
    "        draw_rectangle(screen)\n",
    "        screen.fill(black)\n",
    "    pg.quit()\n",
    "    \n",
    "run_game()"
   ]
  },
  {
   "cell_type": "code",
   "execution_count": 8,
   "id": "199d679f",
   "metadata": {},
   "outputs": [],
   "source": [
    "def check_lateral_move(keys):    \n",
    "    if keys[pg.K_LEFT] and position_on_x > speed:\n",
    "        position_on_x -= speed\n",
    "        \n",
    "    if keys[pg.K_RIGHT] and position_on_x < screen_width - width_of_rec:\n",
    "        position_on_x += speed"
   ]
  },
  {
   "cell_type": "code",
   "execution_count": 1,
   "id": "493a7f06",
   "metadata": {},
   "outputs": [
    {
     "ename": "NameError",
     "evalue": "name 'pg' is not defined",
     "output_type": "error",
     "traceback": [
      "\u001B[0;31m---------------------------------------------------------------------------\u001B[0m",
      "\u001B[0;31mNameError\u001B[0m                                 Traceback (most recent call last)",
      "Cell \u001B[0;32mIn[1], line 15\u001B[0m\n\u001B[1;32m     12\u001B[0m         screen\u001B[38;5;241m.\u001B[39mfill(black)\n\u001B[1;32m     13\u001B[0m     pg\u001B[38;5;241m.\u001B[39mquit()\n\u001B[0;32m---> 15\u001B[0m \u001B[43mrun_game\u001B[49m\u001B[43m(\u001B[49m\u001B[43m)\u001B[49m\n",
      "Cell \u001B[0;32mIn[1], line 3\u001B[0m, in \u001B[0;36mrun_game\u001B[0;34m()\u001B[0m\n\u001B[1;32m      1\u001B[0m \u001B[38;5;28;01mdef\u001B[39;00m \u001B[38;5;21mrun_game\u001B[39m():\n\u001B[1;32m      2\u001B[0m     run \u001B[38;5;241m=\u001B[39m \u001B[38;5;28;01mTrue\u001B[39;00m\n\u001B[0;32m----> 3\u001B[0m     screen \u001B[38;5;241m=\u001B[39m \u001B[43mpg\u001B[49m\u001B[38;5;241m.\u001B[39mdisplay\u001B[38;5;241m.\u001B[39mset_mode((screen_width, screen_height))\n\u001B[1;32m      4\u001B[0m     \u001B[38;5;28;01mwhile\u001B[39;00m run:\n\u001B[1;32m      5\u001B[0m         pg\u001B[38;5;241m.\u001B[39mtime\u001B[38;5;241m.\u001B[39mdelay(\u001B[38;5;241m100\u001B[39m)\n",
      "\u001B[0;31mNameError\u001B[0m: name 'pg' is not defined"
     ]
    }
   ],
   "source": [
    "def run_game():\n",
    "    run = True\n",
    "    screen = pg.display.set_mode((screen_width, screen_height))\n",
    "    while run:\n",
    "        pg.time.delay(100)\n",
    "        for event in pg.event.get():\n",
    "            if event.type == pg.QUIT:\n",
    "                run = False\n",
    "        keys = pg.key.get_pressed()\n",
    "        check_lateral_move(keys)\n",
    "        draw_rectangle(screen)\n",
    "        screen.fill(black)\n",
    "    pg.quit()\n",
    "    \n",
    "run_game()"
   ]
  }
 ],
 "metadata": {
  "kernelspec": {
   "display_name": "Python 3 (ipykernel)",
   "language": "python",
   "name": "python3"
  },
  "language_info": {
   "codemirror_mode": {
    "name": "ipython",
    "version": 3
   },
   "file_extension": ".py",
   "mimetype": "text/x-python",
   "name": "python",
   "nbconvert_exporter": "python",
   "pygments_lexer": "ipython3",
   "version": "3.10.6"
  }
 },
 "nbformat": 4,
 "nbformat_minor": 5
}
