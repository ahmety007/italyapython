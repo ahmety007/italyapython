{
 "cells": [
  {
   "cell_type": "markdown",
   "id": "b45d7bad",
   "metadata": {},
   "source": [
    "# Sequesce types\n",
    "\n",
    "Python knows a number of compound data types used to group together other values. There are three basic sequence types: `range`, `tuples`, and `lists` objects. Out of those, lists are mutable sequences while tuples and ranges are immutable sequences.\n",
    "Additional sequence types tailored for processing of binary and text strings (str) also exist.\n",
    "\n",
    "Sequences are `iterable` objects. This is: an object capable of returning its members one at a time.\n",
    "\n",
    "## Common Sequence Operations\n",
    "\n",
    "The operations in the following table are supported by most sequence types, both mutable and immutable.\n",
    "\n",
    "| Operation | Result |\n",
    "|:-|:-|\n",
    "| x `in` s |True if an item of s is equal to x, else False      | \n",
    "| x not in s |False if an item of s is equal to x, else True      |\n",
    "| s + t |the concatenation of s and t                        |\n",
    "| s * n or n * s |equivalent to adding s to itself n times|\n",
    "| s[1] |ith item of s, origin 0|\n",
    "| s[i:j]|slice of s from i to j |\n",
    "| s[i:j:k] |slice of s from i to j with step k|\n",
    "| len(s)|length of s |\n",
    "| min(s)|smallest item of s |\n",
    "| max(s)|largest item of s |\n",
    "| s.index(x[, i[, j]]) | index of the first occurrence of x in s (at or after index i and before index j) |\n",
    "| s.count(x) | total number of occurrences of x in s |"
   ]
  },
  {
   "cell_type": "markdown",
   "id": "3f25f51b",
   "metadata": {},
   "source": [
    "## Range\n",
    "\n",
    "The range type represents an immutable sequence of numbers. Ranges can be created using the range constructio function:\n",
    "\n",
    "* range(stop)\n",
    "* range(start, stop[, step])\n",
    "\n",
    "Some sequence types (such as range) only support item sequences that follow specific patterns, and hence don’t support sequence concatenation or repetition."
   ]
  },
  {
   "cell_type": "code",
   "execution_count": 27,
   "id": "260fc1a3",
   "metadata": {},
   "outputs": [
    {
     "data": {
      "text/plain": [
       "(0, 9)"
      ]
     },
     "execution_count": 27,
     "metadata": {},
     "output_type": "execute_result"
    }
   ],
   "source": [
    "zero_to_9 = range(10)\n",
    "zero_to_9[0], zero_to_9[9]"
   ]
  },
  {
   "cell_type": "code",
   "execution_count": 9,
   "id": "05b15c39",
   "metadata": {},
   "outputs": [
    {
     "data": {
      "text/plain": [
       "False"
      ]
     },
     "execution_count": 9,
     "metadata": {},
     "output_type": "execute_result"
    }
   ],
   "source": [
    "r = range(1, 10, 2)\n",
    "2 in r"
   ]
  },
  {
   "cell_type": "code",
   "execution_count": 17,
   "id": "783aec7b",
   "metadata": {},
   "outputs": [
    {
     "data": {
      "text/plain": [
       "2"
      ]
     },
     "execution_count": 17,
     "metadata": {},
     "output_type": "execute_result"
    }
   ],
   "source": [
    "r[2]"
   ]
  },
  {
   "cell_type": "markdown",
   "id": "99792dcc",
   "metadata": {},
   "source": [
    "## Tuples\n",
    "\n",
    "Tuples are immutable sequences that can be constructed in a number of ways:\n",
    "\n",
    "* Using a pair of parentheses to denote the empty tuple: ()\n",
    "\n",
    "* Using a trailing comma for a singleton tuple: a, or (a,)\n",
    "\n",
    "* Separating items with commas: a, b, c or (a, b, c)\n",
    "\n",
    "* Using the tuple() built-in: tuple() or tuple(iterable)\n",
    "\n",
    "Elements in a tuple can be of any type."
   ]
  },
  {
   "cell_type": "code",
   "execution_count": 9,
   "id": "13e23fbc",
   "metadata": {},
   "outputs": [
    {
     "data": {
      "text/plain": [
       "(1, 2, 3, 'a')"
      ]
     },
     "execution_count": 9,
     "metadata": {},
     "output_type": "execute_result"
    }
   ],
   "source": [
    "t = (1, 2, 3, 'a')\n",
    "t"
   ]
  },
  {
   "cell_type": "code",
   "execution_count": 10,
   "id": "2ffded17",
   "metadata": {},
   "outputs": [
    {
     "data": {
      "text/plain": [
       "(1, 2)"
      ]
     },
     "execution_count": 10,
     "metadata": {},
     "output_type": "execute_result"
    }
   ],
   "source": [
    "t[:2]"
   ]
  },
  {
   "cell_type": "code",
   "execution_count": 18,
   "id": "003e9de2",
   "metadata": {},
   "outputs": [
    {
     "data": {
      "text/plain": [
       "(0, 1, 2, 3, 4, 5, 6, 7, 8, 9)"
      ]
     },
     "execution_count": 18,
     "metadata": {},
     "output_type": "execute_result"
    }
   ],
   "source": [
    "# create a tuple from an iterable (a range)\n",
    "tuple(r)"
   ]
  },
  {
   "cell_type": "code",
   "execution_count": 5,
   "id": "091ec4dc",
   "metadata": {},
   "outputs": [
    {
     "data": {
      "text/plain": [
       "(1, 2, 3, 'a')"
      ]
     },
     "execution_count": 5,
     "metadata": {},
     "output_type": "execute_result"
    }
   ],
   "source": [
    "t = (1, 2) + (3, 'a')\n",
    "t"
   ]
  },
  {
   "cell_type": "markdown",
   "id": "a52ce07e",
   "metadata": {},
   "source": [
    "Even when lists and tuples can contain values of different data types, this comes with a price and should be used with caution, see the next example:"
   ]
  },
  {
   "cell_type": "code",
   "execution_count": 6,
   "id": "5167a598",
   "metadata": {},
   "outputs": [
    {
     "ename": "TypeError",
     "evalue": "'<' not supported between instances of 'str' and 'int'",
     "output_type": "error",
     "traceback": [
      "\u001b[0;31m---------------------------------------------------------------------------\u001b[0m",
      "\u001b[0;31mTypeError\u001b[0m                                 Traceback (most recent call last)",
      "\u001b[0;32m/tmp/ipykernel_177123/750506380.py\u001b[0m in \u001b[0;36m<module>\u001b[0;34m\u001b[0m\n\u001b[1;32m      1\u001b[0m \u001b[0;31m# determining the minimum value implies comparing elements, str and int are not comparable\u001b[0m\u001b[0;34m\u001b[0m\u001b[0;34m\u001b[0m\u001b[0m\n\u001b[0;32m----> 2\u001b[0;31m \u001b[0mmin\u001b[0m\u001b[0;34m(\u001b[0m\u001b[0mt\u001b[0m\u001b[0;34m)\u001b[0m\u001b[0;34m\u001b[0m\u001b[0;34m\u001b[0m\u001b[0m\n\u001b[0m",
      "\u001b[0;31mTypeError\u001b[0m: '<' not supported between instances of 'str' and 'int'"
     ]
    }
   ],
   "source": [
    "# determining the minimum value implies comparing elements, str and int are not comparable, hence the error\n",
    "min(t)"
   ]
  },
  {
   "cell_type": "markdown",
   "id": "f7c2ff1a",
   "metadata": {},
   "source": [
    "## Lists\n",
    "\n",
    "Lists may be constructed in several ways. \n",
    "\n",
    "\n",
    "* Using a pair of square brackets to denote the empty list: []\n",
    "\n",
    "* Using square brackets, separating items with commas: [a], [a, b, c]\n",
    "\n",
    "* Using a list comprehension: [x for x in iterable]\n",
    "\n",
    "* Using the type constructor: list() or list(iterable)\n",
    "\n",
    "\n",
    "Elements in a list can be of any type."
   ]
  },
  {
   "cell_type": "code",
   "execution_count": 11,
   "id": "1f4b69a4",
   "metadata": {},
   "outputs": [
    {
     "data": {
      "text/plain": [
       "[1, 2, 3, 'a']"
      ]
     },
     "execution_count": 11,
     "metadata": {},
     "output_type": "execute_result"
    }
   ],
   "source": [
    "l = [1, 2, 3, 'a']\n",
    "l"
   ]
  },
  {
   "cell_type": "code",
   "execution_count": 13,
   "id": "eca4f07b",
   "metadata": {},
   "outputs": [
    {
     "data": {
      "text/plain": [
       "[3, 'a']"
      ]
     },
     "execution_count": 13,
     "metadata": {},
     "output_type": "execute_result"
    }
   ],
   "source": [
    "l[2:]"
   ]
  },
  {
   "cell_type": "markdown",
   "id": "583a7b9f",
   "metadata": {},
   "source": [
    "### List comprenhension\n",
    "\n",
    "List comprehension offers a shorter syntax when you want to create a new list based on the values of an existing list.\n",
    "The syntax is as follows:\n",
    "\n",
    "`newlist = [expression for item in iterable if condition]`"
   ]
  },
  {
   "cell_type": "code",
   "execution_count": 7,
   "id": "91f1c6b2",
   "metadata": {},
   "outputs": [
    {
     "data": {
      "text/plain": [
       "['apple', 'banana', 'mango']"
      ]
     },
     "execution_count": 7,
     "metadata": {},
     "output_type": "execute_result"
    }
   ],
   "source": [
    "# given a list of fruits \n",
    "fruits = [\"apple\", \"banana\", \"cherry\", \"kiwi\", \"mango\"]\n",
    "\n",
    "# create a new list with the ones that contains 'a' in its name\n",
    "a_fruits = [f for f in fruits if 'a' in f]\n",
    "\n",
    "a_fruits"
   ]
  },
  {
   "cell_type": "code",
   "execution_count": 28,
   "id": "f5237540",
   "metadata": {},
   "outputs": [
    {
     "data": {
      "text/plain": [
       "[0, 4, 16, 36, 64]"
      ]
     },
     "execution_count": 28,
     "metadata": {},
     "output_type": "execute_result"
    }
   ],
   "source": [
    "#given a list of numbers\n",
    "ns = [0, 1, 2, 3, 4, 5, 6, 7, 8, 9]\n",
    "\n",
    "# create a list containing even numbers in ns to the power of 2\n",
    "evens_powered = [n**2 for n in ns if n % 2 == 0]\n",
    "\n",
    "evens_powered"
   ]
  },
  {
   "cell_type": "markdown",
   "id": "2f18f7a8",
   "metadata": {},
   "source": [
    "## Mutable sequence operations\n",
    "\n",
    "The operations in the following table are defined on mutable sequence types.\n",
    "\n",
    "| Operation | Result |\n",
    "|:-|:-|\n",
    "| s[i] = x | item i of s is replaced by x | \n",
    "| s[i:j] = t | slice of s from i to j is replaced by the contents of the iterable t |\n",
    "| del s[i:j] | same as s[i:j] = [] | \n",
    "| s[i:j:k] = t | the elements of s[i:j:k] are replaced by those of t |\n",
    "| del s[i:j:k] | removes the elements of s[i:j:k] from the list |\n",
    "| s.append(x) | appends x to the end of the sequence (same as s[len(s):len(s)] = [x]) |\n",
    "| s.clear() | removes all items from s (same as del s[:]) |\n",
    "| s.copy() | creates a shallow copy of s (same as s[:]) |\n",
    "| s.extend(t) or s += t | extends s with the contents of t (for the most part the same as s[len(s):len(s)] = t) |\n",
    "| s \\*= n | updates s with its contents repeated n times |\n",
    "| s.insert(i, x) | inserts x into s at the index given by i (same as s[i:i] = [x]) |\n",
    "| s.pop() or s.pop(i) | retrieves the item at i and also removes it from s |\n",
    "| s.remove(x) | remove the first item from s where s[i] is equal to x |\n",
    "| s.reverse() | reverses the items of s in place |"
   ]
  },
  {
   "cell_type": "code",
   "execution_count": 34,
   "id": "6e3ee378",
   "metadata": {},
   "outputs": [
    {
     "data": {
      "text/plain": [
       "[[], [], []]"
      ]
     },
     "execution_count": 34,
     "metadata": {},
     "output_type": "execute_result"
    }
   ],
   "source": [
    "lists = [[]] * 3\n",
    "lists"
   ]
  },
  {
   "cell_type": "markdown",
   "id": "3da86e81",
   "metadata": {},
   "source": [
    "Note that items in the sequence s are not copied; they are referenced multiple times. Consider:"
   ]
  },
  {
   "cell_type": "code",
   "execution_count": 35,
   "id": "89c753d7",
   "metadata": {},
   "outputs": [
    {
     "data": {
      "text/plain": [
       "[[3], [3], [3]]"
      ]
     },
     "execution_count": 35,
     "metadata": {},
     "output_type": "execute_result"
    }
   ],
   "source": [
    "lists[0].append(3)\n",
    "lists"
   ]
  },
  {
   "cell_type": "markdown",
   "id": "a276ada3",
   "metadata": {},
   "source": [
    "What has happened is that `[[]]` is a one-element list containing an empty list, so all three elements of `[[]] * 3` are references to this single empty list. Modifying any of the elements of lists modifies this single list. You can create a list of different lists this way:"
   ]
  },
  {
   "cell_type": "code",
   "execution_count": 37,
   "id": "d7f8f99f",
   "metadata": {},
   "outputs": [
    {
     "data": {
      "text/plain": [
       "[[3], [5], [7]]"
      ]
     },
     "execution_count": 37,
     "metadata": {},
     "output_type": "execute_result"
    }
   ],
   "source": [
    "lists = [[] for i in range(3)]\n",
    "lists[0].append(3)\n",
    "lists[1].append(5)\n",
    "lists[2].append(7)\n",
    "lists"
   ]
  },
  {
   "cell_type": "code",
   "execution_count": 38,
   "id": "4e532ec0",
   "metadata": {},
   "outputs": [
    {
     "data": {
      "text/plain": [
       "[[3], [5], [7], [9], [11]]"
      ]
     },
     "execution_count": 38,
     "metadata": {},
     "output_type": "execute_result"
    }
   ],
   "source": [
    "lists += [[9], [11]]\n",
    "lists"
   ]
  }
 ],
 "metadata": {
  "kernelspec": {
   "display_name": "Python 3 (ipykernel)",
   "language": "python",
   "name": "python3"
  },
  "language_info": {
   "codemirror_mode": {
    "name": "ipython",
    "version": 3
   },
   "file_extension": ".py",
   "mimetype": "text/x-python",
   "name": "python",
   "nbconvert_exporter": "python",
   "pygments_lexer": "ipython3",
   "version": "3.9.13"
  }
 },
 "nbformat": 4,
 "nbformat_minor": 5
}
