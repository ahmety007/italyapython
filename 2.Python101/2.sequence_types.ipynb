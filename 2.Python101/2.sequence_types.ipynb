{
 "cells": [
  {
   "cell_type": "markdown",
   "id": "b45d7bad",
   "metadata": {},
   "source": [
    "# Sequesce types\n",
    "\n",
    "Python knows a number of compound data types, used to group together other values. There are three basic sequence types: `lists`, `tuples`, and `range` objects. Out of those, lists are mutable sequences while tuples and ranges are immutable sequences."
   ]
  },
  {
   "cell_type": "markdown",
   "id": "99792dcc",
   "metadata": {},
   "source": [
    "## Tuples\n",
    "\n",
    "Tuples are immutable sequences that can be constructed in a number of ways:\n",
    "\n",
    "* Using a pair of parentheses to denote the empty tuple: ()\n",
    "\n",
    "* Using a trailing comma for a singleton tuple: a, or (a,)\n",
    "\n",
    "* Separating items with commas: a, b, c or (a, b, c)\n",
    "\n",
    "* Using the tuple() built-in: tuple() or tuple(iterable)\n",
    "\n",
    "Elements in a list can be of any type."
   ]
  },
  {
   "cell_type": "code",
   "execution_count": 9,
   "id": "13e23fbc",
   "metadata": {},
   "outputs": [
    {
     "data": {
      "text/plain": [
       "(1, 2, 3, 'a')"
      ]
     },
     "execution_count": 9,
     "metadata": {},
     "output_type": "execute_result"
    }
   ],
   "source": [
    "t = (1, 2, 3, 'a')\n",
    "t"
   ]
  },
  {
   "cell_type": "code",
   "execution_count": 10,
   "id": "2ffded17",
   "metadata": {},
   "outputs": [
    {
     "data": {
      "text/plain": [
       "(1, 2)"
      ]
     },
     "execution_count": 10,
     "metadata": {},
     "output_type": "execute_result"
    }
   ],
   "source": [
    "t[:2]"
   ]
  },
  {
   "cell_type": "markdown",
   "id": "f7c2ff1a",
   "metadata": {},
   "source": [
    "## Lists\n",
    "\n",
    "Lists may be constructed in several ways. \n",
    "\n",
    "\n",
    "* Using a pair of square brackets to denote the empty list: []\n",
    "\n",
    "* Using square brackets, separating items with commas: [a], [a, b, c]\n",
    "\n",
    "* Using a list comprehension: [x for x in iterable]\n",
    "\n",
    "* Using the type constructor: list() or list(iterable)\n",
    "\n",
    "\n",
    "Elements in a list can be of any type."
   ]
  },
  {
   "cell_type": "code",
   "execution_count": 11,
   "id": "1f4b69a4",
   "metadata": {},
   "outputs": [
    {
     "data": {
      "text/plain": [
       "[1, 2, 3, 'a']"
      ]
     },
     "execution_count": 11,
     "metadata": {},
     "output_type": "execute_result"
    }
   ],
   "source": [
    "l = [1, 2, 3, 'a']\n",
    "l"
   ]
  },
  {
   "cell_type": "code",
   "execution_count": 13,
   "id": "eca4f07b",
   "metadata": {},
   "outputs": [
    {
     "data": {
      "text/plain": [
       "[3, 'a']"
      ]
     },
     "execution_count": 13,
     "metadata": {},
     "output_type": "execute_result"
    }
   ],
   "source": [
    "l[2:]"
   ]
  },
  {
   "cell_type": "markdown",
   "id": "26028207",
   "metadata": {},
   "source": [
    "## Common Sequence Operations\n",
    "\n",
    "The operations in the following table are supported by most sequence types, both mutable and immutable.\n",
    "\n",
    "| Operation | Result |\n",
    "|----------|--------|\n",
    "| x `in` s |True if an item of s is equal to x, else False      | \n",
    "| x not in s |False if an item of s is equal to x, else True      |\n",
    "| s + t |the concatenation of s and t                        |\n",
    "| s * n or n * s |equivalent to adding s to itself n times|\n",
    "| s[1] |ith item of s, origin 0|\n",
    "| s[i:j]|slice of s from i to j |\n",
    "| s[i:j:k] |slice of s from i to j with step k|\n",
    "| len(s)|length of s |\n",
    "| min(s)|smallest item of s |\n",
    "| max(s)|largest item of s |\n",
    "| s.index(x[, i[, j]]) | index of the first occurrence of x in s (at or after index i and before index j) |\n",
    "| s.count(x) | total number of occurrences of x in s |"
   ]
  },
  {
   "cell_type": "code",
   "execution_count": 1,
   "id": "366b3603",
   "metadata": {},
   "outputs": [
    {
     "data": {
      "text/plain": [
       "True"
      ]
     },
     "execution_count": 1,
     "metadata": {},
     "output_type": "execute_result"
    }
   ],
   "source": [
    "'gg' in 'eggs'"
   ]
  },
  {
   "cell_type": "code",
   "execution_count": 16,
   "id": "4fc12544",
   "metadata": {},
   "outputs": [
    {
     "data": {
      "text/plain": [
       "[1, 2, 3, 'a']"
      ]
     },
     "execution_count": 16,
     "metadata": {},
     "output_type": "execute_result"
    }
   ],
   "source": [
    "l = [1, 2] + [3, 'a']\n",
    "l"
   ]
  },
  {
   "cell_type": "markdown",
   "id": "2a3bf0be",
   "metadata": {},
   "source": [
    "Even when lists and tuples can contain values of different data types, this comes with a price and should be used with caution, see the next example:"
   ]
  },
  {
   "cell_type": "code",
   "execution_count": 18,
   "id": "24d86c96",
   "metadata": {},
   "outputs": [
    {
     "ename": "TypeError",
     "evalue": "'<' not supported between instances of 'str' and 'int'",
     "output_type": "error",
     "traceback": [
      "\u001b[0;31m---------------------------------------------------------------------------\u001b[0m",
      "\u001b[0;31mTypeError\u001b[0m                                 Traceback (most recent call last)",
      "\u001b[0;32m/tmp/ipykernel_138600/591121735.py\u001b[0m in \u001b[0;36m<module>\u001b[0;34m\u001b[0m\n\u001b[1;32m      1\u001b[0m \u001b[0;31m# determining the minimum value implies comparing elements, str and int are not comparable\u001b[0m\u001b[0;34m\u001b[0m\u001b[0;34m\u001b[0m\u001b[0m\n\u001b[0;32m----> 2\u001b[0;31m \u001b[0mmin\u001b[0m\u001b[0;34m(\u001b[0m\u001b[0ml\u001b[0m\u001b[0;34m)\u001b[0m\u001b[0;34m\u001b[0m\u001b[0;34m\u001b[0m\u001b[0m\n\u001b[0m",
      "\u001b[0;31mTypeError\u001b[0m: '<' not supported between instances of 'str' and 'int'"
     ]
    }
   ],
   "source": [
    "# determining the minimum value implies comparing elements, str and int are not comparable\n",
    "min(l)"
   ]
  }
 ],
 "metadata": {
  "kernelspec": {
   "display_name": "Python 3 (ipykernel)",
   "language": "python",
   "name": "python3"
  },
  "language_info": {
   "codemirror_mode": {
    "name": "ipython",
    "version": 3
   },
   "file_extension": ".py",
   "mimetype": "text/x-python",
   "name": "python",
   "nbconvert_exporter": "python",
   "pygments_lexer": "ipython3",
   "version": "3.9.13"
  }
 },
 "nbformat": 4,
 "nbformat_minor": 5
}
