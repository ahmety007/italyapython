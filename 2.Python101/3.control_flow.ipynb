{
 "cells": [
  {
   "cell_type": "markdown",
   "id": "930f0df1",
   "metadata": {},
   "source": [
    "# Truth value testing\n",
    "\n",
    "Any object can be tested for truth value, for use in an if or while condition or as operand of the Boolean operations.\n",
    "\n",
    "By default, an object is considered true unless its class defines either a __bool__() method that returns False or a __len__() method that returns zero, when called with the object. Here are most of the built-in objects considered false:\n",
    "\n",
    "* constants defined to be false: None and False.\n",
    "\n",
    "* zero of any numeric type: 0, 0.0, 0j, Decimal(0), Fraction(0, 1)\n",
    "\n",
    "* empty sequences and collections: '', (), [], {}, set(), range(0)\n",
    "\n",
    "Operations and built-in functions that have a Boolean result always return 0 or False for false and 1 or True for true, unless otherwise stated. (Important exception: the Boolean operations or and and always return one of their operands.)"
   ]
  },
  {
   "cell_type": "code",
   "execution_count": 3,
   "id": "5247cd0a",
   "metadata": {},
   "outputs": [
    {
     "data": {
      "text/plain": [
       "(False, False, False)"
      ]
     },
     "execution_count": 3,
     "metadata": {},
     "output_type": "execute_result"
    }
   ],
   "source": [
    "bool(0), bool([]), bool(range(0))"
   ]
  },
  {
   "cell_type": "markdown",
   "id": "287cfbc9",
   "metadata": {},
   "source": [
    "## Comparisons\n",
    "\n",
    "There are eight comparison operations in Python. They all have the same priority (which is higher than that of the Boolean operations). Comparisons can be chained arbitrarily; for example, x < y <= z is equivalent to x < y and y <= z, except that y is evaluated only once (but in both cases z is not evaluated at all when x < y is found to be false).\n",
    "\n",
    "This table summarizes the comparison operations:\n",
    "\n",
    "| Operation | Meaning |\n",
    "| :-: | :- |\n",
    "| < | strictly less than |\n",
    "| <= | less than or equal |\n",
    "| > | strictly greater than |\n",
    "| >= | greater than or equal |\n",
    "| == | equal |\n",
    "| != | not equal |\n",
    "| is | object identity |\n",
    "| is not | negated object identity |"
   ]
  },
  {
   "cell_type": "markdown",
   "id": "c8d404e0",
   "metadata": {},
   "source": [
    "## if Statements"
   ]
  },
  {
   "cell_type": "code",
   "execution_count": 3,
   "id": "643f5ea9",
   "metadata": {},
   "outputs": [
    {
     "name": "stdout",
     "output_type": "stream",
     "text": [
      "4 is between 3 and 7\n"
     ]
    }
   ],
   "source": [
    "import random\n",
    "\n",
    "x = random.randint(1, 10)\n",
    "\n",
    "if x < 3:\n",
    "    print(f\"{x} is less than 3\")\n",
    "elif x >= 3 and x <= 7:\n",
    "    print(f\"{x} is between 3 and 7\")\n",
    "else:\n",
    "    print(f\"{x} is greater than 7\")"
   ]
  },
  {
   "cell_type": "markdown",
   "id": "0b9578f8",
   "metadata": {},
   "source": [
    "### match Statements (requires Python >= 3.10)\n",
    "\n",
    "A match statement takes an expression and compares its value to successive patterns given as one or more case blocks. This is superficially similar to a switch statement in C, Java or JavaScript (and many other languages), but it’s more similar to pattern matching in languages like Rust or Haskell. Only the first pattern that matches gets executed and it can also extract components (sequence elements or object attributes) from the value into variables."
   ]
  },
  {
   "cell_type": "code",
   "execution_count": 47,
   "id": "9976baf2",
   "metadata": {},
   "outputs": [
    {
     "name": "stdout",
     "output_type": "stream",
     "text": [
      "First not a frog\n"
     ]
    }
   ],
   "source": [
    "d = [[\"🐸\", \"🐛\", \"🦋\", \"🪲\"], [\"🐛\", \"🦋\", \"🪲\"]]\n",
    "l = d[random.randint(0, 1)]\n",
    "\n",
    "match l:\n",
    "    case [\"🐸\", *_]:\n",
    "        print(\"First is a frog\")\n",
    "    case _:\n",
    "        print(\"First not a frog\")"
   ]
  },
  {
   "cell_type": "markdown",
   "id": "8423c817",
   "metadata": {},
   "source": [
    "# Iteration\n",
    "\n",
    "## The while loop\n",
    "\n",
    "The while loop executes as long as the condition remains true."
   ]
  },
  {
   "cell_type": "code",
   "execution_count": 61,
   "id": "5ee4dd73",
   "metadata": {},
   "outputs": [
    {
     "name": "stdout",
     "output_type": "stream",
     "text": [
      "0\n",
      "1\n",
      "1\n",
      "2\n",
      "3\n",
      "5\n",
      "8\n"
     ]
    }
   ],
   "source": [
    "# Fibonacci series:\n",
    "# the next element is the sum of the two consecutive previous\n",
    "a, b = 0, 1\n",
    "\n",
    "while a < 10:\n",
    "    print(a)\n",
    "    a, b = b, a+b"
   ]
  },
  {
   "cell_type": "markdown",
   "id": "3b3be621",
   "metadata": {},
   "source": [
    "## The for loop\n",
    "\n",
    "The for statement is used to iterate over the elements of a sequence (such as a string, tuple or list) or other iterable object. The for statement in Python differs a bit from what you may be used to in C or Pascal. Rather than always iterating over an arithmetic progression of numbers (like in Pascal), or giving the user the ability to define both the iteration step and halting condition (as C), Python’s for statement iterates over the items of any sequence (a list or a string), in the order that they appear in the sequence."
   ]
  },
  {
   "cell_type": "markdown",
   "id": "8b5f8b48",
   "metadata": {},
   "source": [
    "Using the `range()` function to iterate chars in a string:"
   ]
  },
  {
   "cell_type": "code",
   "execution_count": 51,
   "id": "24b0775d",
   "metadata": {},
   "outputs": [
    {
     "name": "stdout",
     "output_type": "stream",
     "text": [
      "a\n",
      "b\n",
      "r\n",
      "a\n",
      "c\n",
      "a\n",
      "d\n",
      "a\n",
      "b\n",
      "r\n",
      "a\n"
     ]
    }
   ],
   "source": [
    "word = \"abracadabra\"\n",
    "\n",
    "for i in range(len(word)):\n",
    "    print(word[i])"
   ]
  },
  {
   "cell_type": "markdown",
   "id": "a5a5c8a7",
   "metadata": {},
   "source": [
    "Iterating over a list, the same applies for tuple and set:"
   ]
  },
  {
   "cell_type": "code",
   "execution_count": 50,
   "id": "0e0c256a",
   "metadata": {},
   "outputs": [
    {
     "name": "stdout",
     "output_type": "stream",
     "text": [
      "apple\n",
      "pinapple\n",
      "mango\n",
      "papaya\n",
      "guava\n",
      "kiwi\n"
     ]
    }
   ],
   "source": [
    "fruits = [\"apple\", \"pinapple\", \"mango\", \"papaya\", \"guava\", \"kiwi\"]\n",
    "\n",
    "for w in fruits:\n",
    "    print(w)"
   ]
  },
  {
   "cell_type": "markdown",
   "id": "0331290c",
   "metadata": {},
   "source": [
    "Iterating over dictionaries. \n",
    "\n",
    "Iterating over the dictionary itself, goes over the keys:"
   ]
  },
  {
   "cell_type": "code",
   "execution_count": 58,
   "id": "5b72e5ef",
   "metadata": {},
   "outputs": [
    {
     "name": "stdout",
     "output_type": "stream",
     "text": [
      "User \"Hans\" status is: active\n",
      "User \"Éléonore\" status is: inactive\n",
      "User \"景太郎\" status is: active\n"
     ]
    }
   ],
   "source": [
    "user_status = {'Hans': 'active', 'Éléonore': 'inactive', '景太郎': 'active'}\n",
    "\n",
    "for u in user_status:\n",
    "    print(f'User \"{u}\" status is: {user_status[u]}')"
   ]
  },
  {
   "cell_type": "code",
   "execution_count": 59,
   "id": "3b66a833",
   "metadata": {},
   "outputs": [
    {
     "name": "stdout",
     "output_type": "stream",
     "text": [
      "User \"Hans\" status is: active\n",
      "User \"Éléonore\" status is: inactive\n",
      "User \"景太郎\" status is: active\n"
     ]
    }
   ],
   "source": [
    "for u, s in user_status.items():\n",
    "    print(f'User \"{u}\" status is: {s}')"
   ]
  },
  {
   "cell_type": "markdown",
   "id": "1de28ca3",
   "metadata": {},
   "source": [
    "Loop iteration can be interrupted using the `break` statement or the iteration can be forced to the next one using the `continue` statement.\n",
    "\n",
    "Loop statements, both `while` and `for` may have an `else` clause; it is executed when the loop terminates through exhaustion of the iterable (with `for`) or when the condition becomes false (with `while`), but not when the loop is terminated by a `break`"
   ]
  },
  {
   "cell_type": "code",
   "execution_count": 43,
   "id": "68a2203b",
   "metadata": {},
   "outputs": [
    {
     "name": "stdout",
     "output_type": "stream",
     "text": [
      "Random 0 generated\n",
      "Random 0 generated\n",
      "Random 0 generated\n",
      "For loop was not interrupted\n"
     ]
    }
   ],
   "source": [
    "import random\n",
    "\n",
    "for i in range(3):\n",
    "    r = random.randint(0, 1)\n",
    "    print(f\"Random {r} generated\")\n",
    "    if r == 0:\n",
    "        continue\n",
    "    print(\"For loop was interrupted\")\n",
    "    break\n",
    "else:\n",
    "    print(\"For loop was not interrupted\")"
   ]
  }
 ],
 "metadata": {
  "kernelspec": {
   "display_name": "Python 3 (ipykernel)",
   "language": "python",
   "name": "python3"
  },
  "language_info": {
   "codemirror_mode": {
    "name": "ipython",
    "version": 3
   },
   "file_extension": ".py",
   "mimetype": "text/x-python",
   "name": "python",
   "nbconvert_exporter": "python",
   "pygments_lexer": "ipython3",
   "version": "3.10.6"
  }
 },
 "nbformat": 4,
 "nbformat_minor": 5
}
