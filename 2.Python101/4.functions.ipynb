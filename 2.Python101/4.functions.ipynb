{
 "cells": [
  {
   "cell_type": "markdown",
   "id": "a0dc7ee6",
   "metadata": {},
   "source": [
    "# Defining Functions\n",
    "\n",
    "Functions in Python are defined using the reserved word `def` followed by the parenthesized list of formal parameters. This section is separated from the function body (the past of the function that implements its behavior) by `:`. \n",
    "\n",
    "A very simple function that does nothing:"
   ]
  },
  {
   "cell_type": "code",
   "execution_count": 1,
   "id": "dcdcbb3d",
   "metadata": {},
   "outputs": [],
   "source": [
    "def foo():\n",
    "    pass"
   ]
  },
  {
   "cell_type": "markdown",
   "id": "7c057ec2",
   "metadata": {},
   "source": [
    "That is a function named `foo` with an empty body; the `pass` statement does nothing but is a valid statement.\n",
    "\n",
    "The following is a more useful function that generates the Fibonacci series up to a number `n` provided as a function parameter:"
   ]
  },
  {
   "cell_type": "code",
   "execution_count": 2,
   "id": "c48e9d82",
   "metadata": {},
   "outputs": [],
   "source": [
    "def fib(n):\n",
    "    \"\"\"Print a Fibonacci series up to n\"\"\"\n",
    "    a, b = 0, 1\n",
    "    while a < n:\n",
    "        print(a, end=' ')\n",
    "        a, b = b, a+b\n",
    "    print()"
   ]
  },
  {
   "cell_type": "markdown",
   "id": "5f5cfddf",
   "metadata": {},
   "source": [
    "The first statement of the function body can optionally be a string literal; this string literal is the function’s documentation string, or docstring. There are tools which use docstrings to automatically produce online or printed documentation, or to let the user interactively browse through code; it’s good practice to include docstrings in code that you write, so make a habit of it.\n",
    "\n",
    "Function documentation can be accessed using the `__doc__` attribute:"
   ]
  },
  {
   "cell_type": "code",
   "execution_count": 16,
   "id": "0851924d",
   "metadata": {},
   "outputs": [
    {
     "data": {
      "text/plain": [
       "'Print a Fibonacci series up to n'"
      ]
     },
     "execution_count": 16,
     "metadata": {},
     "output_type": "execute_result"
    }
   ],
   "source": [
    "fib.__doc__"
   ]
  },
  {
   "cell_type": "markdown",
   "id": "0bfe1057",
   "metadata": {},
   "source": [
    "This function is invoked using its name, followed by the parenthesized list of actual parameters (arguments)."
   ]
  },
  {
   "cell_type": "code",
   "execution_count": 8,
   "id": "c2190d26",
   "metadata": {},
   "outputs": [
    {
     "name": "stdout",
     "output_type": "stream",
     "text": [
      "\n"
     ]
    }
   ],
   "source": [
    "fib(0)"
   ]
  },
  {
   "cell_type": "markdown",
   "id": "8576e986",
   "metadata": {},
   "source": [
    "A function definition associates the function name with the function object. The interpreter recognizes the object pointed to by that name as a user-defined function. Other names can also point to that same function object and can also be used to access the function:"
   ]
  },
  {
   "cell_type": "code",
   "execution_count": 11,
   "id": "f2b01969",
   "metadata": {},
   "outputs": [
    {
     "data": {
      "text/plain": [
       "<function __main__.fib(n)>"
      ]
     },
     "execution_count": 11,
     "metadata": {},
     "output_type": "execute_result"
    }
   ],
   "source": [
    "fib"
   ]
  },
  {
   "cell_type": "code",
   "execution_count": 12,
   "id": "0d398579",
   "metadata": {},
   "outputs": [
    {
     "name": "stdout",
     "output_type": "stream",
     "text": [
      "0 1 1 2 3 5 8 13 21 34 55 89 \n"
     ]
    }
   ],
   "source": [
    "f = fib\n",
    "f(100)"
   ]
  },
  {
   "cell_type": "markdown",
   "id": "0d434311",
   "metadata": {},
   "source": [
    "Coming from other languages, objection can be made that `fib` is not a function but a procedure since it doesn’t return a value. In fact, even functions without a `return` statement do return a value, albeit a rather boring one: None"
   ]
  },
  {
   "cell_type": "code",
   "execution_count": 13,
   "id": "31afbab7",
   "metadata": {},
   "outputs": [
    {
     "name": "stdout",
     "output_type": "stream",
     "text": [
      "\n",
      "None\n"
     ]
    }
   ],
   "source": [
    "print(fib(0))"
   ]
  },
  {
   "cell_type": "markdown",
   "id": "f76d482a",
   "metadata": {},
   "source": [
    "The function `fib2` reimplements the Fibonacci sequence generation by returning a list of numbers instead of printing it:"
   ]
  },
  {
   "cell_type": "code",
   "execution_count": 17,
   "id": "b9faa1df",
   "metadata": {},
   "outputs": [],
   "source": [
    "def fib2(n):\n",
    "    \"\"\"Return a list containing the Fibonacci series up to n\"\"\"\n",
    "    result = []\n",
    "    a, b = 0, 1\n",
    "    while a < n:\n",
    "        result.append(a)\n",
    "        a, b = b, a+b\n",
    "    return result"
   ]
  },
  {
   "cell_type": "markdown",
   "id": "afbed485",
   "metadata": {},
   "source": [
    "The return statement returns with a value from a function. return without an expression argument returns None. Falling off the end of a function without a return statement, also returns None."
   ]
  },
  {
   "cell_type": "code",
   "execution_count": 20,
   "id": "ddee867c",
   "metadata": {},
   "outputs": [
    {
     "data": {
      "text/plain": [
       "[0, 1, 1, 2, 3, 5, 8, 13, 21, 34, 55, 89]"
      ]
     },
     "execution_count": 20,
     "metadata": {},
     "output_type": "execute_result"
    }
   ],
   "source": [
    "fs100 = fib2(100)\n",
    "\n",
    "fs100"
   ]
  }
 ],
 "metadata": {
  "kernelspec": {
   "display_name": "Python 3 (ipykernel)",
   "language": "python",
   "name": "python3"
  },
  "language_info": {
   "codemirror_mode": {
    "name": "ipython",
    "version": 3
   },
   "file_extension": ".py",
   "mimetype": "text/x-python",
   "name": "python",
   "nbconvert_exporter": "python",
   "pygments_lexer": "ipython3",
   "version": "3.10.6"
  }
 },
 "nbformat": 4,
 "nbformat_minor": 5
}
